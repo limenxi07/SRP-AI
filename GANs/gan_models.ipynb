{
 "cells": [
  {
   "cell_type": "code",
   "execution_count": null,
   "metadata": {},
   "outputs": [],
   "source": [
    "! [ -e /content ] && pip install -Uqq fastai\n",
    "from fastai.vision.all import *\n",
    "import os"
   ]
  },
  {
   "cell_type": "code",
   "execution_count": null,
   "metadata": {},
   "outputs": [],
   "source": [
    "path = '../results'\n",
    "test = '../images/A_test_set'\n",
    "gan_files = get_image_files('../results/gan_results')\n",
    "lsgan_files = get_image_files('../results/lsgan_results')\n",
    "wgan_files = get_image_files('../results/wgan_results')\n",
    "print(len(gan_files), len(lsgan_files), len(wgan_files))"
   ]
  },
  {
   "cell_type": "code",
   "execution_count": null,
   "metadata": {},
   "outputs": [],
   "source": [
    "def label_func(f): return f[0].isupper()\n",
    "gan_dls = ImageDataLoaders.from_name_func(path, gan_files, label_func, item_tfms=Resize(128))\n",
    "lsgan_dls = ImageDataLoaders.from_name_func(path, lsgan_files, label_func, item_tfms=Resize(128))\n",
    "wgan_dls = ImageDataLoaders.from_name_func(path, wgan_files, label_func, item_tfms=Resize(128))"
   ]
  },
  {
   "cell_type": "code",
   "execution_count": null,
   "metadata": {},
   "outputs": [],
   "source": [
    "gan_learn = vision_learner(gan_dls, resnet34, metrics=accuracy)\n",
    "gan_learn.fine_tune(5)"
   ]
  },
  {
   "cell_type": "code",
   "execution_count": null,
   "metadata": {},
   "outputs": [],
   "source": [
    "lsgan_learn = vision_learner(lsgan_dls, resnet34, metrics=accuracy)\n",
    "lsgan_learn.fine_tune(5)"
   ]
  },
  {
   "cell_type": "code",
   "execution_count": null,
   "metadata": {},
   "outputs": [],
   "source": [
    "wgan_learn = vision_learner(wgan_dls, resnet34, metrics=accuracy)\n",
    "wgan_learn.fine_tune(5)"
   ]
  },
  {
   "cell_type": "code",
   "execution_count": null,
   "metadata": {},
   "outputs": [],
   "source": [
    "def test_accuracy(learner):\n",
    "  results = 0\n",
    "  healthy = 0\n",
    "\n",
    "  for image in os.scandir(test):\n",
    "    if str(image)[11].isupper() and learner.predict(test + str(image)[11:-2])[0] == 'True':\n",
    "      results += 1\n",
    "      healthy += 1\n",
    "    elif str(image)[11].islower() and learner.predict(test + str(image)[11:-2])[0] == 'False':\n",
    "      results += 1\n",
    "\n",
    "  print('Results for ' + learner)\n",
    "  print(f'Overall accuracy: {results}%')\n",
    "  print(f'Healthy accuracy: {healthy * 2}%')\n",
    "  print(f'Rusted accuracy: {(results - healthy) * 2}%')"
   ]
  },
  {
   "cell_type": "code",
   "execution_count": null,
   "metadata": {},
   "outputs": [],
   "source": [
    "test_accuracy(gan_learn)\n",
    "test_accuracy(lsgan_learn)\n",
    "test_accuracy(wgan_learn)"
   ]
  }
 ],
 "metadata": {
  "language_info": {
   "name": "python"
  }
 },
 "nbformat": 4,
 "nbformat_minor": 2
}
